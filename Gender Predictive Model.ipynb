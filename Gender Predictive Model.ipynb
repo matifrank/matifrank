{
  "nbformat": 4,
  "nbformat_minor": 0,
  "metadata": {
    "kernelspec": {
      "display_name": "Python 3",
      "language": "python",
      "name": "python3"
    },
    "language_info": {
      "codemirror_mode": {
        "name": "ipython",
        "version": 3
      },
      "file_extension": ".py",
      "mimetype": "text/x-python",
      "name": "python",
      "nbconvert_exporter": "python",
      "pygments_lexer": "ipython3",
      "version": "3.8.5"
    },
    "toc": {
      "base_numbering": 1,
      "nav_menu": {},
      "number_sections": true,
      "sideBar": true,
      "skip_h1_title": false,
      "title_cell": "Table of Contents",
      "title_sidebar": "Contents",
      "toc_cell": false,
      "toc_position": {},
      "toc_section_display": true,
      "toc_window_display": false
    },
    "colab": {
      "name": "Gender.ipynb",
      "provenance": [],
      "include_colab_link": true
    }
  },
  "cells": [
    {
      "cell_type": "markdown",
      "metadata": {
        "id": "view-in-github",
        "colab_type": "text"
      },
      "source": [
        "<a href=\"https://colab.research.google.com/github/matifrank/matifrank/blob/main/Gender%20Predictive%20Model.ipynb\" target=\"_parent\"><img src=\"https://colab.research.google.com/assets/colab-badge.svg\" alt=\"Open In Colab\"/></a>"
      ]
    },
    {
      "cell_type": "markdown",
      "metadata": {
        "id": "m1zfXFhPbKHQ"
      },
      "source": [
        "- Esta librería parte de la base siguiente https://github.com/jeremybmerrill/beauvoir, pero con una adaptación a más nombres latinos.\n",
        "\n",
        "- Doc de librería https://pypi.org/project/gender-detector/\n"
      ]
    },
    {
      "cell_type": "code",
      "metadata": {
        "id": "fAJwPLn8bKHa"
      },
      "source": [
        "import pandas as pd\n",
        "\n",
        "#La librería no se importa bien como menciona en la documentación, se puede cargar de la siguiente manera\n",
        "from gender_detector import gender_detector as gd\n",
        "\n",
        "#cargamos dataset de leads con sus nombres \n",
        "crm = pd.read_csv('docs/2020.08-02mxBU.csv', skipinitialspace=True, sep=';', header=0, error_bad_lines=False, encoding = \"ISO-8859-1\", parse_dates=['Recibido'], dayfirst=True)\n"
      ],
      "execution_count": null,
      "outputs": []
    },
    {
      "cell_type": "markdown",
      "metadata": {
        "id": "-XN9l9_DbKHd"
      },
      "source": [
        "Cargamos la base de nombres de la librería, en este caso la de Argentina no la carga por un tema de codificación del archivo utf-8 por lo que pude ver:\n",
        "\"'charmap' codec can't decode byte 0x81 in position 1986: character maps to  undefined \"\n"
      ]
    },
    {
      "cell_type": "code",
      "metadata": {
        "id": "GPhA-MIebKHe"
      },
      "source": [
        "#cargamos la base de nombres de la librería\n",
        "detector1 = gd.GenderDetector('ar')\n",
        "detector2 = gd.GenderDetector('us')\n",
        "detector = gd.GenderDetector('uy')"
      ],
      "execution_count": null,
      "outputs": []
    },
    {
      "cell_type": "code",
      "metadata": {
        "id": "8aJgEvURbKHf",
        "outputId": "1b8292cb-eb55-416e-93ee-eeb40d7bb203"
      },
      "source": [
        "#procedemos a usar Gendedetector de \"uy\" que mantiene relación al de Argentina \n",
        "detector.guess('Atahualpa')"
      ],
      "execution_count": null,
      "outputs": [
        {
          "data": {
            "text/plain": [
              "'male'"
            ]
          },
          "execution_count": 17,
          "metadata": {},
          "output_type": "execute_result"
        }
      ]
    },
    {
      "cell_type": "code",
      "metadata": {
        "id": "EOK3htDmbKHh"
      },
      "source": [
        "#tomo una muestra de los leads cargados\n",
        "subset = crm.iloc[0:25, 24] \n",
        "df = pd.DataFrame(subset) "
      ],
      "execution_count": null,
      "outputs": []
    },
    {
      "cell_type": "code",
      "metadata": {
        "id": "Psk-yqjzbKHh"
      },
      "source": [
        "#Tomo la primera palabra de la columna nombre usuario y elimino duplcados en este caso para probar nombres únicos\n",
        "names = df[['Nombre Usuario']].apply(lambda x: x.str.split().str[0]) \n",
        "names = pd.DataFrame(names)\n",
        "df=names['Nombre Usuario'].drop_duplicates().tolist()"
      ],
      "execution_count": null,
      "outputs": []
    },
    {
      "cell_type": "code",
      "metadata": {
        "id": "Ma2uVxFibKHi"
      },
      "source": [
        "#corro función sobre nombres y genero lista de resutlados y print de resultados\n",
        "gen=[]\n",
        "\n",
        "for name in df :\n",
        "    result = detector.guess(name)\n",
        "    gen.append(result)"
      ],
      "execution_count": null,
      "outputs": []
    },
    {
      "cell_type": "code",
      "metadata": {
        "id": "FBMxiQFybKHk"
      },
      "source": [
        "#Genero df unificado de nombres y resultados\n",
        "gender= pd.DataFrame()\n",
        "gender['Nombre']  = df\n",
        "gender['Gen']  = gen"
      ],
      "execution_count": null,
      "outputs": []
    },
    {
      "cell_type": "code",
      "metadata": {
        "id": "giEv2k6QbKHk",
        "outputId": "6ee22167-71e6-4f97-ce83-a227ded8891a"
      },
      "source": [
        "gender"
      ],
      "execution_count": null,
      "outputs": [
        {
          "data": {
            "text/html": [
              "<div>\n",
              "<style scoped>\n",
              "    .dataframe tbody tr th:only-of-type {\n",
              "        vertical-align: middle;\n",
              "    }\n",
              "\n",
              "    .dataframe tbody tr th {\n",
              "        vertical-align: top;\n",
              "    }\n",
              "\n",
              "    .dataframe thead th {\n",
              "        text-align: right;\n",
              "    }\n",
              "</style>\n",
              "<table border=\"1\" class=\"dataframe\">\n",
              "  <thead>\n",
              "    <tr style=\"text-align: right;\">\n",
              "      <th></th>\n",
              "      <th>Nombre</th>\n",
              "      <th>Gen</th>\n",
              "    </tr>\n",
              "  </thead>\n",
              "  <tbody>\n",
              "    <tr>\n",
              "      <th>0</th>\n",
              "      <td>Daniela</td>\n",
              "      <td>female</td>\n",
              "    </tr>\n",
              "    <tr>\n",
              "      <th>1</th>\n",
              "      <td>Leydi</td>\n",
              "      <td>female</td>\n",
              "    </tr>\n",
              "    <tr>\n",
              "      <th>2</th>\n",
              "      <td>Silvia</td>\n",
              "      <td>female</td>\n",
              "    </tr>\n",
              "    <tr>\n",
              "      <th>3</th>\n",
              "      <td>Eleazar</td>\n",
              "      <td>male</td>\n",
              "    </tr>\n",
              "    <tr>\n",
              "      <th>4</th>\n",
              "      <td>Eduardo</td>\n",
              "      <td>male</td>\n",
              "    </tr>\n",
              "    <tr>\n",
              "      <th>5</th>\n",
              "      <td>Ana</td>\n",
              "      <td>female</td>\n",
              "    </tr>\n",
              "    <tr>\n",
              "      <th>6</th>\n",
              "      <td>Andrea</td>\n",
              "      <td>female</td>\n",
              "    </tr>\n",
              "    <tr>\n",
              "      <th>7</th>\n",
              "      <td>Antonio</td>\n",
              "      <td>male</td>\n",
              "    </tr>\n",
              "    <tr>\n",
              "      <th>8</th>\n",
              "      <td>Victoria</td>\n",
              "      <td>female</td>\n",
              "    </tr>\n",
              "    <tr>\n",
              "      <th>9</th>\n",
              "      <td>Briseida</td>\n",
              "      <td>female</td>\n",
              "    </tr>\n",
              "    <tr>\n",
              "      <th>10</th>\n",
              "      <td>daniela</td>\n",
              "      <td>female</td>\n",
              "    </tr>\n",
              "    <tr>\n",
              "      <th>11</th>\n",
              "      <td>Luis</td>\n",
              "      <td>male</td>\n",
              "    </tr>\n",
              "    <tr>\n",
              "      <th>12</th>\n",
              "      <td>Valeria</td>\n",
              "      <td>female</td>\n",
              "    </tr>\n",
              "    <tr>\n",
              "      <th>13</th>\n",
              "      <td>Luz</td>\n",
              "      <td>female</td>\n",
              "    </tr>\n",
              "    <tr>\n",
              "      <th>14</th>\n",
              "      <td>Maria</td>\n",
              "      <td>female</td>\n",
              "    </tr>\n",
              "    <tr>\n",
              "      <th>15</th>\n",
              "      <td>Aranza</td>\n",
              "      <td>female</td>\n",
              "    </tr>\n",
              "    <tr>\n",
              "      <th>16</th>\n",
              "      <td>Kevin</td>\n",
              "      <td>male</td>\n",
              "    </tr>\n",
              "    <tr>\n",
              "      <th>17</th>\n",
              "      <td>Katya</td>\n",
              "      <td>female</td>\n",
              "    </tr>\n",
              "    <tr>\n",
              "      <th>18</th>\n",
              "      <td>Marina</td>\n",
              "      <td>female</td>\n",
              "    </tr>\n",
              "  </tbody>\n",
              "</table>\n",
              "</div>"
            ],
            "text/plain": [
              "      Nombre     Gen\n",
              "0    Daniela  female\n",
              "1      Leydi  female\n",
              "2     Silvia  female\n",
              "3    Eleazar    male\n",
              "4    Eduardo    male\n",
              "5        Ana  female\n",
              "6     Andrea  female\n",
              "7    Antonio    male\n",
              "8   Victoria  female\n",
              "9   Briseida  female\n",
              "10   daniela  female\n",
              "11      Luis    male\n",
              "12   Valeria  female\n",
              "13       Luz  female\n",
              "14     Maria  female\n",
              "15    Aranza  female\n",
              "16     Kevin    male\n",
              "17     Katya  female\n",
              "18    Marina  female"
            ]
          },
          "execution_count": 27,
          "metadata": {},
          "output_type": "execute_result"
        }
      ]
    },
    {
      "cell_type": "markdown",
      "metadata": {
        "id": "M80yoK6mbKHl"
      },
      "source": [
        "Para este caso es posible acceder a las bases siendo archivos .csv, que tienen los nombres y atributos, para agregar aquellos que no logra identificar o mismo modificar \"female\" por otro valor. \n",
        "\n",
        "ruta de acceso en mi local:\n",
        "\\anaconda3\\Lib\\site-packages\\gender_detector\\data\\uyprocessed"
      ]
    },
    {
      "cell_type": "markdown",
      "metadata": {
        "id": "61BzMpK6bKHl"
      },
      "source": [
        "Otra opcion encontrada funciona a través de API pero con limitación a 1000 nombres diarios o de pago de 10usd al mes para procesar 100000 nombres y con bases más completas, por países y mayores atributos:\n",
        "#https://genderize.io/our-data\n"
      ]
    },
    {
      "cell_type": "code",
      "metadata": {
        "id": "ApYllmKLbKHm",
        "outputId": "35f54537-25d9-480c-d147-7b9fce5058ed"
      },
      "source": [
        "#https://pypi.org/project/Genderize/\n",
        "\n",
        "from genderize import Genderize\n",
        "\n",
        "print(Genderize().get(['Atahualpa', 'Eva', 'pedro','José María', 'María José']))"
      ],
      "execution_count": null,
      "outputs": [
        {
          "name": "stdout",
          "output_type": "stream",
          "text": [
            "[{'name': 'Atahualpa', 'gender': 'male', 'probability': 0.96, 'count': 55}, {'name': 'Eva', 'gender': 'female', 'probability': 0.98, 'count': 135031}, {'name': 'pedro', 'gender': 'male', 'probability': 0.99, 'count': 165413}, {'name': 'José María', 'gender': None, 'probability': 0.0, 'count': 0}, {'name': 'María José', 'gender': None, 'probability': 0.0, 'count': 0}]\n"
          ]
        }
      ]
    },
    {
      "cell_type": "code",
      "metadata": {
        "id": "j6cvWXwUbKHm"
      },
      "source": [
        ""
      ],
      "execution_count": null,
      "outputs": []
    }
  ]
}